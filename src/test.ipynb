{
 "cells": [
  {
   "cell_type": "code",
   "execution_count": 91,
   "metadata": {},
   "outputs": [],
   "source": [
    "##### IMPORT PACKAGES\n",
    "# system tools\n",
    "import os\n",
    "\n",
    "# data munging tools\n",
    "import pandas as pd\n",
    "from joblib import dump, load\n",
    "\n",
    "# Machine learning stuff\n",
    "from sklearn.feature_extraction.text import CountVectorizer, TfidfVectorizer\n",
    "from sklearn.linear_model import LogisticRegression\n",
    "from sklearn.neural_network import MLPClassifier\n",
    "from sklearn.model_selection import train_test_split, ShuffleSplit\n",
    "from sklearn import metrics"
   ]
  },
  {
   "cell_type": "code",
   "execution_count": 93,
   "metadata": {},
   "outputs": [],
   "source": [
    "# get filename\n",
    "filename = os.path.join(\n",
    "    \"..\",\n",
    "    \"..\",\n",
    "    \"data\",  \n",
    "    \"dataset.csv\")"
   ]
  },
  {
   "cell_type": "code",
   "execution_count": null,
   "metadata": {},
   "outputs": [],
   "source": [
    "# load data\n",
    "data = pd.read_csv(\n",
    "    filename)"
   ]
  },
  {
   "cell_type": "code",
   "execution_count": null,
   "metadata": {},
   "outputs": [],
   "source": [
    "data"
   ]
  },
  {
   "cell_type": "code",
   "execution_count": null,
   "metadata": {},
   "outputs": [],
   "source": [
    "# extract needed columns from data frame\n",
    "X = data[\"clean_text\"]\n",
    "y = data[\"is_depression\"]"
   ]
  },
  {
   "cell_type": "code",
   "execution_count": null,
   "metadata": {},
   "outputs": [],
   "source": [
    "##### TRAIN-TEST SPLIT\n",
    "\n",
    "X_train, X_test, y_train, y_test = train_test_split(\n",
    "    X, # inputs for the model\n",
    "    y, # classification labels\n",
    "    test_size = 0.1,   # create a 95/5 train/test split\n",
    "    random_state = 42) # random state for reproducibility\n"
   ]
  },
  {
   "cell_type": "code",
   "execution_count": 92,
   "metadata": {},
   "outputs": [],
   "source": [
    "def load_data(filename):\n",
    "\n",
    "    # read csv\n",
    "    data = pd.read_csv(\n",
    "        filename)\n",
    "\n",
    "    # extract needed columns from data frame\n",
    "    X = data[\"clean_text\"]\n",
    "    y = data[\"is_depression\"]\n",
    "\n",
    "    X_train, X_test, y_train, y_test = train_test_split(\n",
    "        X, # inputs for the model\n",
    "        y, # classification labels\n",
    "        test_size = 0.1,   # create a 95/5 train/test split\n",
    "        random_state = 42) # random state for reproducibility\n",
    "\n",
    "    return X_train, X_test, y_train, y_test"
   ]
  },
  {
   "cell_type": "code",
   "execution_count": 94,
   "metadata": {},
   "outputs": [],
   "source": [
    "X_train, X_test, y_train, y_test = load_data(filename)"
   ]
  },
  {
   "cell_type": "code",
   "execution_count": 96,
   "metadata": {},
   "outputs": [],
   "source": [
    "##### VECTORIZE\n",
    "vectorizer = TfidfVectorizer(\n",
    "    ngram_range = (1, 2), # unigrams and bigrams (1 word and 2 word units)\n",
    "    lowercase =  True, # don't distinguish between e.g. words at start vs middle of sentence\n",
    "    max_df = 0.95, # remove very common words\n",
    "    min_df = 0.05, # remove very rare words\n",
    "    max_features = 500) # keep only top 500 features\n"
   ]
  },
  {
   "cell_type": "code",
   "execution_count": null,
   "metadata": {},
   "outputs": [],
   "source": [
    "# first we fit the vectorizer to the training data...\n",
    "X_train_feats = vectorizer.fit_transform(X_train)\n",
    "\n",
    "#... then transform our test data\n",
    "X_test_feats = vectorizer.transform(X_test)\n",
    "\n",
    "# get feature names if needed\n",
    "feature_names = vectorizer.get_feature_names_out()"
   ]
  },
  {
   "cell_type": "code",
   "execution_count": 95,
   "metadata": {},
   "outputs": [],
   "source": [
    "def vectorize(X_train, X_test, vectorizer):\n",
    "\n",
    "    # first we fit the vectorizer to the training data...\n",
    "    X_train_feats = vectorizer.fit_transform(X_train)\n",
    "\n",
    "    #... then transform our test data\n",
    "    X_test_feats = vectorizer.transform(X_test)\n",
    "\n",
    "    return X_train_feats, X_test_feats"
   ]
  },
  {
   "cell_type": "code",
   "execution_count": null,
   "metadata": {},
   "outputs": [],
   "source": [
    "X_train_feats, X_test_feats = vectorize(X_train, X_test, vectorizer)"
   ]
  },
  {
   "cell_type": "code",
   "execution_count": null,
   "metadata": {},
   "outputs": [],
   "source": [
    "feature_names.shape"
   ]
  },
  {
   "cell_type": "code",
   "execution_count": null,
   "metadata": {},
   "outputs": [],
   "source": [
    "##### CLASSIFY & PREDICT\n",
    "# define classifier\n",
    "classifier = MLPClassifier(\n",
    "    activation = \"relu\", \n",
    "    hidden_layer_sizes = (10,), # 1 hidden layer of 20 neurons\n",
    "    max_iter = 1000, # max number of attempts to converge\n",
    "    early_stopping = True, # stop early if no improvement\n",
    "    verbose = True, # print what's going on\n",
    "    random_state = 42) # reproducibility\n"
   ]
  },
  {
   "cell_type": "code",
   "execution_count": null,
   "metadata": {},
   "outputs": [],
   "source": [
    "# fit classifier\n",
    "classifier.fit(\n",
    "    X_train_feats, \n",
    "    y_train)"
   ]
  },
  {
   "cell_type": "code",
   "execution_count": null,
   "metadata": {},
   "outputs": [],
   "source": [
    "# get predictions\n",
    "y_pred = classifier.predict(\n",
    "    X_test_feats)"
   ]
  },
  {
   "cell_type": "code",
   "execution_count": null,
   "metadata": {},
   "outputs": [],
   "source": [
    "# evaluate\n",
    "classifier_metrics = metrics.classification_report(\n",
    "    y_test, \n",
    "    y_pred)"
   ]
  },
  {
   "cell_type": "code",
   "execution_count": null,
   "metadata": {},
   "outputs": [],
   "source": [
    "print(classifier_metrics)"
   ]
  }
 ],
 "metadata": {
  "kernelspec": {
   "display_name": "Python 3",
   "language": "python",
   "name": "python3"
  },
  "language_info": {
   "codemirror_mode": {
    "name": "ipython",
    "version": 3
   },
   "file_extension": ".py",
   "mimetype": "text/x-python",
   "name": "python",
   "nbconvert_exporter": "python",
   "pygments_lexer": "ipython3",
   "version": "3.9.2"
  },
  "orig_nbformat": 4
 },
 "nbformat": 4,
 "nbformat_minor": 2
}
